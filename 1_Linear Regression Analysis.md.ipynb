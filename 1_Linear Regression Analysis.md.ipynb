{
 "cells": [
  {
   "cell_type": "markdown",
   "id": "2b5b10a6",
   "metadata": {},
   "source": [
    "# Linear Regression Analysis"
   ]
  },
  {
   "cell_type": "markdown",
   "id": "d45d02b0",
   "metadata": {},
   "source": [
    "Introduction to Regression Analysis\n",
    "\n",
    "Regression analysis is a statistical technique for investigating and modeling the relationship between variables. Relation between variables where changes in some variables may “explain” or possibly “cause” changes in other variables. Explanatory variables are termed the independent variables and the variables to be explained are termed the dependent variables."
   ]
  },
  {
   "cell_type": "markdown",
   "id": "c2581891",
   "metadata": {},
   "source": [
    "# Linear Regression"
   ]
  },
  {
   "cell_type": "markdown",
   "id": "dc163948",
   "metadata": {},
   "source": [
    "Linear regression shows the linear relationship between the independent variable (X-axis) and the dependent variable (Y-axis), hence called linear regression."
   ]
  },
  {
   "cell_type": "markdown",
   "id": "3211a89e",
   "metadata": {},
   "source": [
    "# Types of Linear Regression\n",
    "Linear regression can be further divided into two types of the algorithm:\n",
    "\n"
   ]
  },
  {
   "cell_type": "markdown",
   "id": "8b014ddc",
   "metadata": {},
   "source": [
    "# Simple Linear Regression:\n",
    "If a single independent variable is used to predict the value of a numerical dependent variable, then such a Linear Regression algorithm is called Simple Linear Regression.\n",
    "\n",
    "# Multiple Linear regression:\n",
    "\n",
    "If more than one independent variable is used to predict the value of a numerical dependent variable, then such a Linear Regression algorithm is called Multiple Linear Regression.\n",
    "\n",
    "\n"
   ]
  },
  {
   "cell_type": "code",
   "execution_count": null,
   "id": "404829a3",
   "metadata": {},
   "outputs": [],
   "source": []
  }
 ],
 "metadata": {
  "kernelspec": {
   "display_name": "Python 3",
   "language": "python",
   "name": "python3"
  },
  "language_info": {
   "codemirror_mode": {
    "name": "ipython",
    "version": 3
   },
   "file_extension": ".py",
   "mimetype": "text/x-python",
   "name": "python",
   "nbconvert_exporter": "python",
   "pygments_lexer": "ipython3",
   "version": "3.8.8"
  }
 },
 "nbformat": 4,
 "nbformat_minor": 5
}
